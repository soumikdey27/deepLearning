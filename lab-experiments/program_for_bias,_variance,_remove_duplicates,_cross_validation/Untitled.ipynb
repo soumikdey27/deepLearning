{
 "cells": [
  {
   "cell_type": "code",
   "execution_count": null,
   "id": "2c2cce93",
   "metadata": {},
   "outputs": [],
   "source": [
    "#Develop a program for Bias, Variance, Remove duplicates, Cross Validation. "
   ]
  },
  {
   "cell_type": "code",
   "execution_count": 1,
   "id": "921ef28c",
   "metadata": {},
   "outputs": [
    {
     "name": "stdout",
     "output_type": "stream",
     "text": [
      "Duplicates Removed: 3\n",
      "Logistic Regression Test Accuracy: 0.97\n",
      "Decision Tree Test Accuracy: 0.93\n",
      "Logistic Regression Cross-Validation Mean Accuracy: 0.96\n",
      "Decision Tree Cross-Validation Mean Accuracy: 0.96\n"
     ]
    }
   ],
   "source": [
    "# Import necessary libraries\n",
    "import pandas as pd\n",
    "from sklearn.model_selection import train_test_split, KFold, cross_val_score\n",
    "from sklearn.linear_model import LogisticRegression\n",
    "from sklearn.tree import DecisionTreeClassifier\n",
    "from sklearn.metrics import accuracy_score\n",
    "\n",
    "# Step 1: Load the dataset\n",
    "iris_df = pd.read_csv('Iris.csv')\n",
    "\n",
    "# Step 2: Remove the 'Id' column (not useful for analysis)\n",
    "iris_df = iris_df.drop(columns=['Id'])\n",
    "\n",
    "# Step 3: Check and remove duplicate rows\n",
    "duplicates_count = iris_df.duplicated().sum()\n",
    "iris_df = iris_df.drop_duplicates()\n",
    "\n",
    "# Step 4: Prepare features (X) and target (y)\n",
    "X = iris_df.drop(columns=['Species'])  # Features\n",
    "y = iris_df['Species']  # Target\n",
    "\n",
    "# Split the data into training and testing sets\n",
    "X_train, X_test, y_train, y_test = train_test_split(X, y, test_size=0.2, random_state=42, stratify=y)\n",
    "\n",
    "# Step 5: Initialize models for Bias and Variance analysis\n",
    "lr_model = LogisticRegression(max_iter=200)  # Logistic Regression (low variance, potential high bias)\n",
    "dt_model = DecisionTreeClassifier(random_state=42)  # Decision Tree (higher variance, potentially low bias)\n",
    "\n",
    "# Train the models\n",
    "lr_model.fit(X_train, y_train)\n",
    "dt_model.fit(X_train, y_train)\n",
    "\n",
    "# Make predictions\n",
    "lr_pred = lr_model.predict(X_test)\n",
    "dt_pred = dt_model.predict(X_test)\n",
    "\n",
    "# Calculate accuracy\n",
    "lr_accuracy = accuracy_score(y_test, lr_pred)\n",
    "dt_accuracy = accuracy_score(y_test, dt_pred)\n",
    "\n",
    "# Step 6: Perform Cross Validation\n",
    "kf = KFold(n_splits=5, shuffle=True, random_state=42)\n",
    "\n",
    "# Logistic Regression Cross Validation\n",
    "cv_scores_lr = cross_val_score(lr_model, X, y, cv=kf, scoring='accuracy')\n",
    "\n",
    "# Decision Tree Cross Validation\n",
    "cv_scores_dt = cross_val_score(dt_model, X, y, cv=kf, scoring='accuracy')\n",
    "\n",
    "# Step 7: Print Results\n",
    "print(f\"Duplicates Removed: {duplicates_count}\")\n",
    "print(f\"Logistic Regression Test Accuracy: {lr_accuracy:.2f}\")\n",
    "print(f\"Decision Tree Test Accuracy: {dt_accuracy:.2f}\")\n",
    "print(f\"Logistic Regression Cross-Validation Mean Accuracy: {cv_scores_lr.mean():.2f}\")\n",
    "print(f\"Decision Tree Cross-Validation Mean Accuracy: {cv_scores_dt.mean():.2f}\")"
   ]
  },
  {
   "cell_type": "code",
   "execution_count": null,
   "id": "468a2b67",
   "metadata": {},
   "outputs": [],
   "source": []
  }
 ],
 "metadata": {
  "kernelspec": {
   "display_name": "Python 3 (ipykernel)",
   "language": "python",
   "name": "python3"
  },
  "language_info": {
   "codemirror_mode": {
    "name": "ipython",
    "version": 3
   },
   "file_extension": ".py",
   "mimetype": "text/x-python",
   "name": "python",
   "nbconvert_exporter": "python",
   "pygments_lexer": "ipython3",
   "version": "3.11.2"
  }
 },
 "nbformat": 4,
 "nbformat_minor": 5
}
