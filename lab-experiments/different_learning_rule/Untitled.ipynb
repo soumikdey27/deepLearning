{
 "cells": [
  {
   "cell_type": "code",
   "execution_count": null,
   "id": "3cadea24",
   "metadata": {},
   "outputs": [],
   "source": [
    "#Implementation of different Learning Rules."
   ]
  },
  {
   "cell_type": "code",
   "execution_count": 1,
   "id": "9b9188b4",
   "metadata": {},
   "outputs": [
    {
     "name": "stdout",
     "output_type": "stream",
     "text": [
      "Updated weights (Hebbian):\n",
      " [[0.2 0.1]\n",
      " [0.1 0.2]]\n"
     ]
    }
   ],
   "source": [
    "#Hebbian Learning Rule\n",
    "import numpy as np\n",
    "\n",
    "def hebbian_learning(weights, inputs, outputs, learning_rate):\n",
    "    for i in range(len(inputs)):\n",
    "        weights += learning_rate * np.outer(inputs[i], outputs[i])\n",
    "    return weights\n",
    "\n",
    "# Example\n",
    "inputs = np.array([[1, 0], [0, 1], [1, 1]])  # Binary inputs\n",
    "outputs = np.array([[1, 0], [0, 1], [1, 1]])  # Desired outputs\n",
    "weights = np.zeros((2, 2))  # Initialize weights\n",
    "learning_rate = 0.1\n",
    "\n",
    "weights = hebbian_learning(weights, inputs, outputs, learning_rate)\n",
    "print(\"Updated weights (Hebbian):\\n\", weights)"
   ]
  },
  {
   "cell_type": "code",
   "execution_count": 2,
   "id": "e87a4011",
   "metadata": {},
   "outputs": [
    {
     "name": "stdout",
     "output_type": "stream",
     "text": [
      "Updated weights (Perceptron):\n",
      " [ 0.1  0.  -0.1]\n"
     ]
    }
   ],
   "source": [
    "#Perceptron Learning Rule\n",
    "def perceptron_learning(weights, inputs, targets, learning_rate, epochs):\n",
    "    for epoch in range(epochs):\n",
    "        for i in range(len(inputs)):\n",
    "            y = np.where(np.dot(inputs[i], weights) >= 0, 1, 0)\n",
    "            weights += learning_rate * (targets[i] - y) * inputs[i]\n",
    "    return weights\n",
    "\n",
    "# Example\n",
    "inputs = np.array([[1, 0, 1], [1, 1, 1], [0, 0, 1]])  # Including bias\n",
    "targets = np.array([1, 1, 0])  # Desired outputs\n",
    "weights = np.zeros(3)  # Initialize weights (including bias)\n",
    "learning_rate = 0.1\n",
    "\n",
    "weights = perceptron_learning(weights, inputs, targets, learning_rate, epochs=10)\n",
    "print(\"Updated weights (Perceptron):\\n\", weights)"
   ]
  },
  {
   "cell_type": "code",
   "execution_count": 3,
   "id": "d5cad05b",
   "metadata": {},
   "outputs": [
    {
     "name": "stdout",
     "output_type": "stream",
     "text": [
      "Updated weights (Delta):\n",
      " [0.55574086 0.17042858 0.25731795]\n"
     ]
    }
   ],
   "source": [
    "#Delta Learning Rule\n",
    "def delta_learning(weights, inputs, targets, learning_rate, epochs):\n",
    "    for epoch in range(epochs):\n",
    "        for i in range(len(inputs)):\n",
    "            y = np.dot(inputs[i], weights)\n",
    "            weights += learning_rate * (targets[i] - y) * inputs[i]\n",
    "    return weights\n",
    "\n",
    "# Example\n",
    "inputs = np.array([[1, 0, 1], [1, 1, 1], [0, 0, 1]])  # Including bias\n",
    "targets = np.array([1, 1, 0])  # Desired outputs\n",
    "weights = np.zeros(3)  # Initialize weights (including bias)\n",
    "learning_rate = 0.1\n",
    "\n",
    "weights = delta_learning(weights, inputs, targets, learning_rate, epochs=10)\n",
    "print(\"Updated weights (Delta):\\n\", weights)"
   ]
  },
  {
   "cell_type": "code",
   "execution_count": 4,
   "id": "da49a714",
   "metadata": {},
   "outputs": [
    {
     "name": "stdout",
     "output_type": "stream",
     "text": [
      "Updated weights (Correlation):\n",
      " [[2 1]\n",
      " [1 2]]\n"
     ]
    }
   ],
   "source": [
    "#Correlation Learning Rule\n",
    "def correlation_learning(inputs, targets):\n",
    "    weights = np.dot(inputs.T, targets)\n",
    "    return weights\n",
    "\n",
    "# Example\n",
    "inputs = np.array([[1, 0], [0, 1], [1, 1]])  # Binary inputs\n",
    "targets = np.array([[1, 0], [0, 1], [1, 1]])  # Desired outputs\n",
    "\n",
    "weights = correlation_learning(inputs, targets)\n",
    "print(\"Updated weights (Correlation):\\n\", weights)"
   ]
  },
  {
   "cell_type": "code",
   "execution_count": 5,
   "id": "5a58efe8",
   "metadata": {},
   "outputs": [
    {
     "name": "stdout",
     "output_type": "stream",
     "text": [
      "Updated weights (Out Star):\n",
      " [0.82566078 0.17433922 0.82566078]\n"
     ]
    }
   ],
   "source": [
    "#Out Star Learning Rule\n",
    "def out_star_learning(weights, target, learning_rate, epochs):\n",
    "    for epoch in range(epochs):\n",
    "        weights += learning_rate * (target - weights)\n",
    "    return weights\n",
    "\n",
    "# Example\n",
    "weights = np.array([0.5, 0.5, 0.5])  # Initialize weights\n",
    "target = np.array([1, 0, 1])  # Desired target\n",
    "learning_rate = 0.1\n",
    "\n",
    "weights = out_star_learning(weights, target, learning_rate, epochs=10)\n",
    "print(\"Updated weights (Out Star):\\n\", weights)"
   ]
  },
  {
   "cell_type": "code",
   "execution_count": 6,
   "id": "5a1d3ee2",
   "metadata": {},
   "outputs": [
    {
     "name": "stdout",
     "output_type": "stream",
     "text": [
      "Updated weights (Competitive):\n",
      " [[0.19042335 0.86934441]\n",
      " [0.31678685 0.14154423]\n",
      " [0.98353168 0.52502298]]\n"
     ]
    }
   ],
   "source": [
    "#Competitive Learning Rule\n",
    "def competitive_learning(weights, inputs, learning_rate, epochs):\n",
    "    for epoch in range(epochs):\n",
    "        for x in inputs:\n",
    "            # Find the winning neuron (closest weight vector)\n",
    "            distances = np.linalg.norm(weights - x, axis=1)\n",
    "            winner = np.argmin(distances)\n",
    "            # Update the weights of the winning neuron\n",
    "            weights[winner] += learning_rate * (x - weights[winner])\n",
    "    return weights\n",
    "\n",
    "# Example\n",
    "inputs = np.array([[1, 0], [0, 1], [1, 1]])  # Input patterns\n",
    "weights = np.random.rand(3, 2)  # Initialize weights for 3 neurons\n",
    "learning_rate = 0.1\n",
    "\n",
    "weights = competitive_learning(weights, inputs, learning_rate, epochs=10)\n",
    "print(\"Updated weights (Competitive):\\n\", weights)"
   ]
  },
  {
   "cell_type": "code",
   "execution_count": null,
   "id": "22172486",
   "metadata": {},
   "outputs": [],
   "source": []
  }
 ],
 "metadata": {
  "kernelspec": {
   "display_name": "Python 3 (ipykernel)",
   "language": "python",
   "name": "python3"
  },
  "language_info": {
   "codemirror_mode": {
    "name": "ipython",
    "version": 3
   },
   "file_extension": ".py",
   "mimetype": "text/x-python",
   "name": "python",
   "nbconvert_exporter": "python",
   "pygments_lexer": "ipython3",
   "version": "3.11.2"
  }
 },
 "nbformat": 4,
 "nbformat_minor": 5
}
