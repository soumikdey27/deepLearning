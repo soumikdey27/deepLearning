{
 "cells": [
  {
   "cell_type": "code",
   "execution_count": null,
   "id": "08147235",
   "metadata": {},
   "outputs": [],
   "source": [
    "#Implementation of Perceptron Networks"
   ]
  },
  {
   "cell_type": "code",
   "execution_count": 1,
   "id": "f890fcb1",
   "metadata": {},
   "outputs": [
    {
     "name": "stdout",
     "output_type": "stream",
     "text": [
      "Input: [0 0] - Predicted Output: 0\n",
      "Input: [0 1] - Predicted Output: 0\n",
      "Input: [1 0] - Predicted Output: 0\n",
      "Input: [1 1] - Predicted Output: 1\n"
     ]
    }
   ],
   "source": [
    "import numpy as np\n",
    "\n",
    "# Step function\n",
    "def step_function(x):\n",
    "    return 1 if x >= 0 else 0\n",
    "\n",
    "class Perceptron:\n",
    "    def __init__(self, input_size, learning_rate=0.01, epochs=1000):\n",
    "        self.weights = np.zeros(input_size + 1)\n",
    "        self.learning_rate = learning_rate\n",
    "        self.epochs = epochs\n",
    "\n",
    "    def predict(self, x):\n",
    "        # Add bias to the input\n",
    "        x = np.insert(x, 0, 1)\n",
    "        summation = np.dot(self.weights, x)\n",
    "        return step_function(summation)\n",
    "\n",
    "    def train(self, X, y):\n",
    "        for _ in range(self.epochs):\n",
    "            for x, target in zip(X, y):\n",
    "                prediction = self.predict(x)\n",
    "                self.weights += self.learning_rate * (target - prediction) * np.insert(x, 0, 1)\n",
    "\n",
    "# Sample data for AND logic gate\n",
    "X = np.array([[0, 0], [0, 1], [1, 0], [1, 1]])\n",
    "y = np.array([0, 0, 0, 1])\n",
    "\n",
    "# Initialize and train the perceptron\n",
    "perceptron = Perceptron(input_size=2)\n",
    "perceptron.train(X, y)\n",
    "\n",
    "# Test the perceptron\n",
    "for x in X:\n",
    "    print(f\"Input: {x} - Predicted Output: {perceptron.predict(x)}\")"
   ]
  },
  {
   "cell_type": "code",
   "execution_count": null,
   "id": "4ff4352f",
   "metadata": {},
   "outputs": [],
   "source": []
  }
 ],
 "metadata": {
  "kernelspec": {
   "display_name": "Python 3 (ipykernel)",
   "language": "python",
   "name": "python3"
  },
  "language_info": {
   "codemirror_mode": {
    "name": "ipython",
    "version": 3
   },
   "file_extension": ".py",
   "mimetype": "text/x-python",
   "name": "python",
   "nbconvert_exporter": "python",
   "pygments_lexer": "ipython3",
   "version": "3.11.2"
  }
 },
 "nbformat": 4,
 "nbformat_minor": 5
}
