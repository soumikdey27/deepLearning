{
 "cells": [
  {
   "cell_type": "code",
   "execution_count": 1,
   "id": "db836ecf",
   "metadata": {},
   "outputs": [],
   "source": [
    "#Implementation of different activation functions to train Neural Network.\n",
    "import tensorflow as tf\n",
    "from tensorflow.keras.models import Sequential\n",
    "from tensorflow.keras.layers import Dense, Flatten, Input\n",
    "from tensorflow.keras.datasets import mnist"
   ]
  },
  {
   "cell_type": "code",
   "execution_count": 2,
   "id": "b4cf9206",
   "metadata": {},
   "outputs": [
    {
     "name": "stdout",
     "output_type": "stream",
     "text": [
      "Downloading data from https://storage.googleapis.com/tensorflow/tf-keras-datasets/mnist.npz\n",
      "\u001b[1m11490434/11490434\u001b[0m \u001b[32m━━━━━━━━━━━━━━━━━━━━\u001b[0m\u001b[37m\u001b[0m \u001b[1m35s\u001b[0m 3us/step\n"
     ]
    }
   ],
   "source": [
    "# Load and preprocess the MNIST dataset\n",
    "(x_train, y_train), (x_test, y_test) = mnist.load_data()\n",
    "x_train = x_train / 255.0\n",
    "x_test = x_test / 255.0"
   ]
  },
  {
   "cell_type": "code",
   "execution_count": 3,
   "id": "e334970f",
   "metadata": {},
   "outputs": [],
   "source": [
    "# One-hot encode the labels\n",
    "y_train = tf.keras.utils.to_categorical(y_train, 10)\n",
    "y_test = tf.keras.utils.to_categorical(y_test, 10)"
   ]
  },
  {
   "cell_type": "code",
   "execution_count": 4,
   "id": "d118bed7",
   "metadata": {},
   "outputs": [],
   "source": [
    "# Function to create a neural network with a specified activation function\n",
    "def create_model(activation_function):\n",
    "    model = Sequential([\n",
    "        Input(shape=(28, 28)),  # Explicit Input layer\n",
    "        Flatten(),\n",
    "        Dense(128, activation=activation_function),\n",
    "        Dense(64, activation=activation_function),\n",
    "        Dense(10, activation='softmax')  # Output layer with softmax for classification\n",
    "    ])\n",
    "    model.compile(optimizer='adam',\n",
    "                  loss='categorical_crossentropy',\n",
    "                  metrics=['accuracy'])\n",
    "    return model"
   ]
  },
  {
   "cell_type": "code",
   "execution_count": 5,
   "id": "806d7341",
   "metadata": {},
   "outputs": [],
   "source": [
    "# List of activation functions to test\n",
    "activation_functions = ['linear', 'sigmoid', 'tanh', 'relu', 'softplus']"
   ]
  },
  {
   "cell_type": "code",
   "execution_count": 6,
   "id": "e97e1385",
   "metadata": {},
   "outputs": [
    {
     "name": "stdout",
     "output_type": "stream",
     "text": [
      "\n",
      "Training model with linear activation:\n",
      "Epoch 1/5\n",
      "938/938 - 5s - 5ms/step - accuracy: 0.8942 - loss: 0.3667\n",
      "Epoch 2/5\n",
      "938/938 - 2s - 2ms/step - accuracy: 0.9158 - loss: 0.3008\n",
      "Epoch 3/5\n",
      "938/938 - 2s - 3ms/step - accuracy: 0.9184 - loss: 0.2911\n",
      "Epoch 4/5\n",
      "938/938 - 3s - 3ms/step - accuracy: 0.9205 - loss: 0.2854\n",
      "Epoch 5/5\n",
      "938/938 - 3s - 3ms/step - accuracy: 0.9212 - loss: 0.2832\n",
      "Test Accuracy with linear: 0.9166\n",
      "\n",
      "Training model with sigmoid activation:\n",
      "Epoch 1/5\n",
      "938/938 - 4s - 4ms/step - accuracy: 0.8554 - loss: 0.6072\n",
      "Epoch 2/5\n",
      "938/938 - 3s - 3ms/step - accuracy: 0.9362 - loss: 0.2199\n",
      "Epoch 3/5\n",
      "938/938 - 3s - 3ms/step - accuracy: 0.9545 - loss: 0.1581\n",
      "Epoch 4/5\n",
      "938/938 - 3s - 3ms/step - accuracy: 0.9646 - loss: 0.1222\n",
      "Epoch 5/5\n",
      "938/938 - 3s - 3ms/step - accuracy: 0.9717 - loss: 0.0979\n",
      "Test Accuracy with sigmoid: 0.9665\n",
      "\n",
      "Training model with tanh activation:\n",
      "Epoch 1/5\n",
      "938/938 - 4s - 5ms/step - accuracy: 0.9143 - loss: 0.2991\n",
      "Epoch 2/5\n",
      "938/938 - 3s - 3ms/step - accuracy: 0.9590 - loss: 0.1389\n",
      "Epoch 3/5\n",
      "938/938 - 3s - 3ms/step - accuracy: 0.9719 - loss: 0.0937\n",
      "Epoch 4/5\n",
      "938/938 - 3s - 3ms/step - accuracy: 0.9786 - loss: 0.0700\n",
      "Epoch 5/5\n",
      "938/938 - 3s - 3ms/step - accuracy: 0.9846 - loss: 0.0525\n",
      "Test Accuracy with tanh: 0.9744\n",
      "\n",
      "Training model with relu activation:\n",
      "Epoch 1/5\n",
      "938/938 - 3s - 3ms/step - accuracy: 0.9200 - loss: 0.2784\n",
      "Epoch 2/5\n",
      "938/938 - 3s - 3ms/step - accuracy: 0.9653 - loss: 0.1159\n",
      "Epoch 3/5\n",
      "938/938 - 3s - 3ms/step - accuracy: 0.9755 - loss: 0.0801\n",
      "Epoch 4/5\n",
      "938/938 - 3s - 3ms/step - accuracy: 0.9805 - loss: 0.0606\n",
      "Epoch 5/5\n",
      "938/938 - 3s - 3ms/step - accuracy: 0.9852 - loss: 0.0474\n",
      "Test Accuracy with relu: 0.9743\n",
      "\n",
      "Training model with softplus activation:\n",
      "Epoch 1/5\n",
      "938/938 - 4s - 5ms/step - accuracy: 0.8966 - loss: 0.3587\n",
      "Epoch 2/5\n",
      "938/938 - 3s - 3ms/step - accuracy: 0.9503 - loss: 0.1699\n",
      "Epoch 3/5\n",
      "938/938 - 3s - 3ms/step - accuracy: 0.9640 - loss: 0.1189\n",
      "Epoch 4/5\n",
      "938/938 - 3s - 3ms/step - accuracy: 0.9722 - loss: 0.0889\n",
      "Epoch 5/5\n",
      "938/938 - 3s - 3ms/step - accuracy: 0.9777 - loss: 0.0707\n",
      "Test Accuracy with softplus: 0.9698\n"
     ]
    }
   ],
   "source": [
    "# Train and evaluate models with different activation functions\n",
    "for activation in activation_functions:\n",
    "    print(f\"\\nTraining model with {activation} activation:\")\n",
    "    model = create_model(activation)\n",
    "    model.fit(x_train, y_train, epochs=5, batch_size=64, verbose=2)\n",
    "    test_loss, test_accuracy = model.evaluate(x_test, y_test, verbose=0)\n",
    "    print(f\"Test Accuracy with {activation}: {test_accuracy:.4f}\")"
   ]
  },
  {
   "cell_type": "code",
   "execution_count": null,
   "id": "eddd0776",
   "metadata": {},
   "outputs": [],
   "source": []
  }
 ],
 "metadata": {
  "kernelspec": {
   "display_name": "Python 3 (ipykernel)",
   "language": "python",
   "name": "python3"
  },
  "language_info": {
   "codemirror_mode": {
    "name": "ipython",
    "version": 3
   },
   "file_extension": ".py",
   "mimetype": "text/x-python",
   "name": "python",
   "nbconvert_exporter": "python",
   "pygments_lexer": "ipython3",
   "version": "3.11.2"
  }
 },
 "nbformat": 4,
 "nbformat_minor": 5
}
